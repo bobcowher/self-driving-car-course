{
 "cells": [
  {
   "cell_type": "code",
   "execution_count": null,
   "id": "f6d6633a",
   "metadata": {},
   "outputs": [],
   "source": [
    "import numpy as np\n",
    "import matplotlib.pyplot as plt\n",
    "%matplotlib inline\n",
    " \n",
    " \n",
    "def draw(x1,x2):\n",
    "  ln=plt.plot(x1,x2)\n",
    " \n",
    "def sigmoid(score):\n",
    "  return 1/(1+np.exp(-score))\n",
    "  \n",
    "n_pts=100\n",
    "np.random.seed(0)\n",
    "bias= np.ones(n_pts)\n",
    "top_region=np.array([np.random.normal(10,2,n_pts), np.random.normal(12,2,n_pts), bias]).T\n",
    "bottom_region= np.array([np.random.normal(5,2, n_pts), np.random.normal(6,2, n_pts), bias]).T\n",
    "all_points=np.vstack((top_region, bottom_region))\n",
    "w1=-0.2\n",
    "w2=-0.35\n",
    "b=3.5\n",
    "line_paramters = np.matrix([w1,w2,b]).T\n",
    "x1=np.array([bottom_region[:,0].min(), top_region[:,0].max()])\n",
    "x2= -b/w2 + (x1*(-w1/w2))\n",
    " \n",
    "linear_combination= all_points*line_paramters \n",
    "probabilities= sigmoid(linear_combination)\n",
    "print(probabilities)    \n",
    "_, ax= plt.subplots(figsize=(4,4))\n",
    "ax.scatter(top_region[:,0], top_region[:,1], color='r')\n",
    "ax.scatter(bottom_region[:,0], bottom_region[:,1], color='b')\n",
    "draw(x1,x2)\n",
    "plt.show()\n"
   ]
  }
 ],
 "metadata": {
  "kernelspec": {
   "display_name": "Python 3 (ipykernel)",
   "language": "python",
   "name": "python3"
  },
  "language_info": {
   "codemirror_mode": {
    "name": "ipython",
    "version": 3
   },
   "file_extension": ".py",
   "mimetype": "text/x-python",
   "name": "python",
   "nbconvert_exporter": "python",
   "pygments_lexer": "ipython3",
   "version": "3.9.13"
  }
 },
 "nbformat": 4,
 "nbformat_minor": 5
}
